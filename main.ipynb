{
 "cells": [
  {
   "cell_type": "code",
   "execution_count": 1,
   "metadata": {},
   "outputs": [
    {
     "name": "stderr",
     "output_type": "stream",
     "text": [
      "2024-03-20 17:39:59.611178: I tensorflow/core/util/port.cc:113] oneDNN custom operations are on. You may see slightly different numerical results due to floating-point round-off errors from different computation orders. To turn them off, set the environment variable `TF_ENABLE_ONEDNN_OPTS=0`.\n",
      "2024-03-20 17:39:59.614236: I external/local_tsl/tsl/cuda/cudart_stub.cc:31] Could not find cuda drivers on your machine, GPU will not be used.\n",
      "2024-03-20 17:39:59.651582: E external/local_xla/xla/stream_executor/cuda/cuda_dnn.cc:9261] Unable to register cuDNN factory: Attempting to register factory for plugin cuDNN when one has already been registered\n",
      "2024-03-20 17:39:59.651626: E external/local_xla/xla/stream_executor/cuda/cuda_fft.cc:607] Unable to register cuFFT factory: Attempting to register factory for plugin cuFFT when one has already been registered\n",
      "2024-03-20 17:39:59.652923: E external/local_xla/xla/stream_executor/cuda/cuda_blas.cc:1515] Unable to register cuBLAS factory: Attempting to register factory for plugin cuBLAS when one has already been registered\n",
      "2024-03-20 17:39:59.659350: I external/local_tsl/tsl/cuda/cudart_stub.cc:31] Could not find cuda drivers on your machine, GPU will not be used.\n",
      "2024-03-20 17:39:59.659802: I tensorflow/core/platform/cpu_feature_guard.cc:182] This TensorFlow binary is optimized to use available CPU instructions in performance-critical operations.\n",
      "To enable the following instructions: AVX2 AVX512F AVX512_VNNI FMA, in other operations, rebuild TensorFlow with the appropriate compiler flags.\n",
      "2024-03-20 17:40:00.393212: W tensorflow/compiler/tf2tensorrt/utils/py_utils.cc:38] TF-TRT Warning: Could not find TensorRT\n",
      "/home/ofeks10/.local/lib/python3.10/site-packages/requests/__init__.py:102: RequestsDependencyWarning: urllib3 (1.26.7) or chardet (5.2.0)/charset_normalizer (2.0.8) doesn't match a supported version!\n",
      "  warnings.warn(\"urllib3 ({}) or chardet ({})/charset_normalizer ({}) doesn't match a supported \"\n",
      "/home/ofeks10/anaconda3/envs/ml/lib/python3.10/site-packages/tensorflow_addons/utils/tfa_eol_msg.py:23: UserWarning: \n",
      "\n",
      "TensorFlow Addons (TFA) has ended development and introduction of new features.\n",
      "TFA has entered a minimal maintenance and release mode until a planned end of life in May 2024.\n",
      "Please modify downstream libraries to take dependencies from other repositories in our TensorFlow community (e.g. Keras, Keras-CV, and Keras-NLP). \n",
      "\n",
      "For more information see: https://github.com/tensorflow/addons/issues/2807 \n",
      "\n",
      "  warnings.warn(\n",
      "2024-03-20 17:40:01.885082: I external/local_xla/xla/stream_executor/cuda/cuda_executor.cc:901] successful NUMA node read from SysFS had negative value (-1), but there must be at least one NUMA node, so returning NUMA node zero. See more at https://github.com/torvalds/linux/blob/v6.0/Documentation/ABI/testing/sysfs-bus-pci#L344-L355\n",
      "2024-03-20 17:40:01.885531: W tensorflow/core/common_runtime/gpu/gpu_device.cc:2256] Cannot dlopen some GPU libraries. Please make sure the missing libraries mentioned above are installed properly if you would like to use GPU. Follow the guide at https://www.tensorflow.org/install/gpu for how to download and setup the required libraries for your platform.\n",
      "Skipping registering GPU devices...\n",
      "2024-03-20 17:40:02.105006: I tensorflow_io/core/kernels/cpu_check.cc:128] Your CPU supports instructions that this TensorFlow IO binary was not compiled to use: SSE3 SSE4.1 SSE4.2 AVX AVX2 AVX512F FMA\n"
     ]
    },
    {
     "name": "stdout",
     "output_type": "stream",
     "text": [
      "WARNING:tensorflow:Using a while_loop for converting IO>AudioResample cause there is no registered converter for this op.\n",
      "(129, 374, 1)\n"
     ]
    }
   ],
   "source": [
    "import os\n",
    "import data_loading\n",
    "import models\n",
    "from matplotlib import pyplot as plt\n",
    "import tensorflow as tf\n",
    "\n",
    "pos = os.path.join('./data', 'Parsed_Capuchinbird_Clips')\n",
    "neg = os.path.join('./data', 'Parsed_Not_Capuchinbird_Clips')\n",
    "\n",
    "train_ds, test_ds = data_loading.get_augmented_data(pos, neg)\n",
    "\n",
    "single_sample_dimensions = train_ds.take(1).as_numpy_iterator().next()[0][0].shape\n",
    "EPOCHS = 5\n",
    "\n",
    "print(single_sample_dimensions)"
   ]
  },
  {
   "cell_type": "code",
   "execution_count": 2,
   "metadata": {},
   "outputs": [
    {
     "name": "stdout",
     "output_type": "stream",
     "text": [
      "Epoch 1/5\n",
      "20/20 [==============================] - 39s 2s/step - loss: 0.5655 - binary_accuracy: 0.7437 - val_loss: 0.3009 - val_binary_accuracy: 0.9588\n",
      "Epoch 2/5\n",
      "20/20 [==============================] - 38s 2s/step - loss: 0.5207 - binary_accuracy: 0.7672 - val_loss: 0.3496 - val_binary_accuracy: 0.9176\n",
      "Epoch 3/5\n",
      "20/20 [==============================] - 39s 2s/step - loss: 0.2909 - binary_accuracy: 0.9203 - val_loss: 0.1694 - val_binary_accuracy: 0.9765\n",
      "Epoch 4/5\n",
      "20/20 [==============================] - 39s 2s/step - loss: 0.2819 - binary_accuracy: 0.9031 - val_loss: 0.1179 - val_binary_accuracy: 0.9765\n",
      "Epoch 5/5\n",
      "20/20 [==============================] - 39s 2s/step - loss: 0.1750 - binary_accuracy: 0.9531 - val_loss: 0.1103 - val_binary_accuracy: 0.9824\n",
      "6/6 [==============================] - 14s 194ms/step - loss: 0.0908 - binary_accuracy: 0.9765\n",
      "Accuracy: [0.09084603190422058, 0.9764705896377563]\n"
     ]
    },
    {
     "data": {
      "image/png": "[encoded data removed]",
      "text/plain": [
       "<Figure size 432x288 with 1 Axes>"
      ]
     },
     "metadata": {
      "needs_background": "light"
     },
     "output_type": "display_data"
    }
   ],
   "source": [
    "encoder = models.create_encoder(single_sample_dimensions)\n",
    "\n",
    "classifier = models.create_classifier(encoder, single_sample_dimensions)\n",
    "\n",
    "# Train the classifier with the encoder not frozen as a single model\n",
    "history = classifier.fit(train_ds, validation_data=test_ds, epochs=EPOCHS)\n",
    "\n",
    "# Print the accuracy of the model\n",
    "accuracy = classifier.evaluate(test_ds)\n",
    "print(f'Accuracy: {accuracy}')\n",
    "\n",
    "# Plot the training and validation accuracy\n",
    "plt.plot(history.history['binary_accuracy'], label = 'binary_accuracy')\n",
    "plt.plot(history.history['val_binary_accuracy'], label = 'val_binary_accuracy')\n",
    "plt.xlabel('Epoch')\n",
    "plt.ylabel('Accuracy')\n",
    "plt.ylim([0, 1])\n",
    "plt.legend(loc='lower right')\n",
    "plt.show()"
   ]
  },
  {
   "cell_type": "code",
   "execution_count": 3,
   "metadata": {},
   "outputs": [
    {
     "name": "stdout",
     "output_type": "stream",
     "text": [
      "Epoch 1/5\n",
      "20/20 [==============================] - 39s 2s/step - loss: 3.4196 - val_loss: 3.3465\n",
      "Epoch 2/5\n",
      "20/20 [==============================] - 39s 2s/step - loss: 3.2811 - val_loss: 3.3345\n",
      "Epoch 3/5\n",
      "20/20 [==============================] - 39s 2s/step - loss: 3.1606 - val_loss: 3.3407\n",
      "Epoch 4/5\n",
      "20/20 [==============================] - 39s 2s/step - loss: 3.0995 - val_loss: 3.2560\n",
      "Epoch 5/5\n",
      "20/20 [==============================] - 39s 2s/step - loss: 3.0913 - val_loss: 3.2441\n",
      "Epoch 1/5\n",
      "20/20 [==============================] - 30s 1s/step - loss: 0.6741 - binary_accuracy: 0.5906 - val_loss: 0.5673 - val_binary_accuracy: 0.9941\n",
      "Epoch 2/5\n",
      "20/20 [==============================] - 30s 1s/step - loss: 0.5683 - binary_accuracy: 0.8516 - val_loss: 0.4958 - val_binary_accuracy: 0.9941\n",
      "Epoch 3/5\n",
      "20/20 [==============================] - 30s 1s/step - loss: 0.4873 - binary_accuracy: 0.9203 - val_loss: 0.4095 - val_binary_accuracy: 1.0000\n",
      "Epoch 4/5\n",
      "20/20 [==============================] - 30s 1s/step - loss: 0.4402 - binary_accuracy: 0.9438 - val_loss: 0.3736 - val_binary_accuracy: 0.9941\n",
      "Epoch 5/5\n",
      "20/20 [==============================] - 29s 1s/step - loss: 0.3960 - binary_accuracy: 0.9531 - val_loss: 0.3136 - val_binary_accuracy: 1.0000\n",
      "6/6 [==============================] - 14s 193ms/step - loss: 0.3037 - binary_accuracy: 1.0000\n",
      "Accuracy: [0.3036932647228241, 1.0]\n"
     ]
    },
    {
     "data": {
      "image/png": "[encoded data removed]",
      "text/plain": [
       "<Figure size 432x288 with 1 Axes>"
      ]
     },
     "metadata": {
      "needs_background": "light"
     },
     "output_type": "display_data"
    }
   ],
   "source": [
    "from tensorflow import keras\n",
    "from tensorflow.keras import layers\n",
    "import tensorflow_addons as tfa\n",
    "\n",
    "encoder = models.create_encoder(single_sample_dimensions)\n",
    "encoder_with_projection_head = models.create_encoder_with_projection_head(\n",
    "    encoder, single_sample_dimensions\n",
    ")\n",
    "\n",
    "# Train the encoder with the projection head\n",
    "history = encoder_with_projection_head.fit(train_ds, validation_data=test_ds, epochs=EPOCHS)\n",
    "\n",
    "# Train the classifier with the encoder frozen\n",
    "encoder.trainable = False\n",
    "classifier = models.create_classifier(encoder, single_sample_dimensions, trainable=False)\n",
    "\n",
    "history2 = classifier.fit(train_ds, validation_data=test_ds, epochs=EPOCHS)\n",
    "\n",
    "# Print the accuracy of the model\n",
    "accuracy = classifier.evaluate(test_ds)\n",
    "print(f'Accuracy: {accuracy}')\n",
    "\n",
    "# Plot the accuracy of the model\n",
    "plt.plot(history2.history['binary_accuracy'], label = 'binary_accuracy')\n",
    "plt.plot(history2.history['val_binary_accuracy'], label = 'val_binary_accuracy')\n",
    "plt.xlabel('Epoch')\n",
    "plt.ylabel('Accuracy')\n",
    "plt.ylim([0, 1])\n",
    "plt.legend(loc='lower right')\n",
    "plt.show()"
   ]
  }
 ],
 "metadata": {
  "kernelspec": {
   "display_name": "venv",
   "language": "python",
   "name": "python3"
  },
  "language_info": {
   "codemirror_mode": {
    "name": "ipython",
    "version": 3
   },
   "file_extension": ".py",
   "mimetype": "text/x-python",
   "name": "python",
   "nbconvert_exporter": "python",
   "pygments_lexer": "ipython3",
   "version": "3.10.13"
  }
 },
 "nbformat": 4,
 "nbformat_minor": 2
}
